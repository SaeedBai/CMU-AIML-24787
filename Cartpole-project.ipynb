{
 "cells": [
  {
   "cell_type": "code",
   "execution_count": 50,
   "id": "1ff7c51c",
   "metadata": {},
   "outputs": [],
   "source": [
    "import numpy as np\n",
    "import time\n",
    "import math\n",
    "import random\n",
    "import gym\n",
    "from typing import Tuple\n",
    "import matplotlib.pyplot as plt\n",
    "from IPython import display\n",
    "from sklearn.preprocessing import KBinsDiscretizer"
   ]
  },
  {
   "cell_type": "markdown",
   "id": "8d558c8f",
   "metadata": {},
   "source": [
    "## CartPole-V1 Enviornment Setup"
   ]
  },
  {
   "cell_type": "code",
   "execution_count": 51,
   "id": "4bdba63b",
   "metadata": {},
   "outputs": [],
   "source": [
    "env = gym.make('CartPole-v1')"
   ]
  },
  {
   "cell_type": "markdown",
   "id": "3282fd3c",
   "metadata": {},
   "source": [
    "## Enviornment Documentation"
   ]
  },
  {
   "cell_type": "code",
   "execution_count": 35,
   "id": "8f381a42",
   "metadata": {},
   "outputs": [],
   "source": [
    "?env.env"
   ]
  },
  {
   "cell_type": "markdown",
   "id": "a29f38e0",
   "metadata": {},
   "source": [
    "## Visualization"
   ]
  },
  {
   "cell_type": "code",
   "execution_count": 33,
   "id": "fd480e8a",
   "metadata": {},
   "outputs": [
    {
     "name": "stdout",
     "output_type": "stream",
     "text": [
      "[ 0.02565401 -0.1647732   0.04665167  0.27335662]\n",
      "[ 0.02235855 -0.36052868  0.0521188   0.580381  ]\n",
      "[ 0.01514797 -0.55634075  0.06372643  0.8890162 ]\n",
      "[ 0.00402116 -0.7522669   0.08150674  1.2010318 ]\n",
      "[-0.01102418 -0.9483429   0.10552739  1.5181059 ]\n",
      "[-0.02999104 -1.144571    0.1358895   1.841778  ]\n",
      "[-0.05288246 -1.3409059   0.17272507  2.1733942 ]\n",
      "[-0.07970057 -1.5372396   0.21619295  2.5140417 ]\n"
     ]
    },
    {
     "name": "stderr",
     "output_type": "stream",
     "text": [
      "/home/saeedbai/.local/lib/python3.8/site-packages/gym/logger.py:34: UserWarning: \u001b[33mWARN: You are calling 'step()' even though this environment has already returned done = True. You should always call 'reset()' once you receive 'done = True' -- any further steps are undefined behavior.\u001b[0m\n",
      "  warnings.warn(colorize(\"%s: %s\" % (\"WARN\", msg % args), \"yellow\"))\n"
     ]
    },
    {
     "name": "stdout",
     "output_type": "stream",
     "text": [
      "[-0.11044537 -1.7333832   0.26647377  2.8644748 ]\n",
      "[-0.14511304 -1.9290476   0.32376328  3.225032  ]\n",
      "[-0.18369399 -2.1238244   0.3882639   3.59555   ]\n",
      "[-0.22617048 -2.3171692   0.46017492  3.9752834 ]\n",
      "[-0.27251387 -2.5083911   0.5396806   4.3628454 ]\n",
      "[-0.32268167 -2.6966553   0.6269375   4.756181  ]\n",
      "[-0.37661478 -2.8810008   0.7220611   5.1525936 ]\n",
      "[-0.4342348 -3.060383   0.825113   5.5488324]\n",
      "[-0.49544245 -3.2337406   0.93608963  5.94124   ]\n",
      "[-0.56011724 -3.400087    1.0549145   6.3259325 ]\n",
      "[-0.628119  -3.558625   1.1814331  6.698982 ]\n",
      "[-0.6992915 -3.7088695  1.3154128  7.0565248]\n",
      "[-0.7734689 -3.850772   1.4565432  7.3947597]\n",
      "[-0.8504843 -3.9848351  1.6044384  7.709769 ]\n",
      "[-0.930181  -4.1122074  1.7586337  7.997176 ]\n",
      "[-1.0124252 -4.2347474  1.9185773  8.251681 ]\n",
      "[-1.0971202 -4.355042   2.083611   8.466582 ]\n",
      "[-1.184221  -4.4763546  2.2529426  8.633485 ]\n",
      "[-1.273748  -4.6024528  2.4256122  8.742444 ]\n",
      "[-1.3657972 -4.737281   2.6004612  8.782832 ]\n",
      "[-1.4605428 -4.884448   2.7761178  8.745061 ]\n",
      "[-1.5582317 -5.0466022  2.951019   8.622968 ]\n",
      "[ 0.02043397 -0.16287638 -0.01009361  0.2704138 ]\n",
      "[ 0.01717644 -0.35785285 -0.00468534  0.5598961 ]\n",
      "[ 0.01001938 -0.5529087   0.00651259  0.85109925]\n",
      "[-1.0387934e-03 -7.4811888e-01  2.3534572e-02  1.1458230e+00]\n",
      "[-0.01600117 -0.94354016  0.04645103  1.4457922 ]\n",
      "[-0.03487197 -1.1392018   0.07536688  1.7526197 ]\n",
      "[-0.05765601 -1.3350936   0.11041927  2.0677602 ]\n",
      "[-0.08435788 -1.5311524   0.15177448  2.3924549 ]\n",
      "[-0.11498093 -1.7272455   0.19962357  2.7276638 ]\n",
      "[-0.14952584 -1.9231517   0.25417686  3.0739877 ]\n",
      "[-0.18798888 -2.118542    0.3156566   3.4315825 ]\n",
      "[-0.23035972 -2.3129587   0.38428825  3.8000686 ]\n",
      "[-0.2766189  -2.5058002   0.46028963  4.178454  ]\n",
      "[-0.3267349 -2.6963127  0.5438587  4.565078 ]\n",
      "[-0.38066113 -2.8835952   0.63516027  4.9575977 ]\n",
      "[-0.43833303 -3.0666258   0.73431224  5.3530326 ]\n",
      "[-0.49966556 -3.2443106   0.84137285  5.7478766 ]\n",
      "[-0.5645518 -3.4155622  0.9563304  6.138264 ]\n",
      "[-0.63286304 -3.579401    1.0790957   6.520171  ]\n",
      "[-0.704451  -3.7350776  1.2094991  6.88959  ]\n",
      "[-0.7791526 -3.8822029  1.3472909  7.242619 ]\n",
      "[-0.8567966 -4.020873   1.4921433  7.575411 ]\n",
      "[-0.93721414 -4.1517844   1.6436515   7.8839307 ]\n",
      "[-1.0202498 -4.276322   1.8013301  8.163553 ]\n",
      "[-1.1057762 -4.396613   1.9646012  8.4085455]\n",
      "[-1.1937085 -4.515534   2.132772   8.611596 ]\n",
      "[-1.2840192 -4.636621   2.3050041  8.763597 ]\n",
      "[-1.3767517 -4.763856   2.4802759  8.85398  ]\n",
      "[-1.4720287 -4.901263   2.6573555  8.871882 ]\n",
      "[-1.5700539 -5.0523324  2.834793   8.808198 ]\n",
      "[ 0.02696556 -0.2379239  -0.03420823  0.27582625]\n",
      "[ 0.02220708 -0.43254152 -0.02869171  0.55752665]\n",
      "[ 0.01355625 -0.6272492  -0.01754118  0.8410337 ]\n",
      "[ 1.0112638e-03 -8.2212734e-01 -7.2050182e-04  1.1281492e+00]\n",
      "[-0.01543128 -1.0172398   0.02184248  1.420606  ]\n",
      "[-0.03577608 -1.2126251   0.0502546   1.7200352 ]\n",
      "[-0.06002858 -1.4082855   0.08465531  2.0279238 ]\n"
     ]
    },
    {
     "ename": "KeyboardInterrupt",
     "evalue": "",
     "output_type": "error",
     "traceback": [
      "\u001b[0;31m---------------------------------------------------------------------------\u001b[0m",
      "\u001b[0;31mKeyboardInterrupt\u001b[0m                         Traceback (most recent call last)",
      "\u001b[0;32m/tmp/ipykernel_3876/4017625540.py\u001b[0m in \u001b[0;36m<module>\u001b[0;34m\u001b[0m\n\u001b[1;32m     12\u001b[0m         \u001b[0;31m#display.display(plt.gcf())\u001b[0m\u001b[0;34m\u001b[0m\u001b[0;34m\u001b[0m\u001b[0;34m\u001b[0m\u001b[0m\n\u001b[1;32m     13\u001b[0m         \u001b[0;31m#display.clear_output(wait=True)\u001b[0m\u001b[0;34m\u001b[0m\u001b[0;34m\u001b[0m\u001b[0;34m\u001b[0m\u001b[0m\n\u001b[0;32m---> 14\u001b[0;31m         \u001b[0mtime\u001b[0m\u001b[0;34m.\u001b[0m\u001b[0msleep\u001b[0m\u001b[0;34m(\u001b[0m\u001b[0;36m0.1\u001b[0m\u001b[0;34m)\u001b[0m\u001b[0;34m\u001b[0m\u001b[0;34m\u001b[0m\u001b[0m\n\u001b[0m\u001b[1;32m     15\u001b[0m \u001b[0menv\u001b[0m\u001b[0;34m.\u001b[0m\u001b[0mclose\u001b[0m\u001b[0;34m(\u001b[0m\u001b[0;34m)\u001b[0m\u001b[0;34m\u001b[0m\u001b[0;34m\u001b[0m\u001b[0m\n",
      "\u001b[0;31mKeyboardInterrupt\u001b[0m: "
     ]
    }
   ],
   "source": [
    "#Hard coded policy value\n",
    "policy = lambda obs: 0\n",
    "for i in range(5):\n",
    "    obs = env.reset()\n",
    "    for j in range(30):\n",
    "        actions = policy(obs)\n",
    "        obs, reward, done, info = env.step(actions)\n",
    "        env.render()\n",
    "        print(obs)\n",
    "        ## IF WANT TO PRESENT ANIMATION IN JUPYTER\n",
    "        #plt.imshow(env.render(mode='rgb_array'))\n",
    "        #display.display(plt.gcf())    \n",
    "        #display.clear_output(wait=True)\n",
    "        time.sleep(0.1)\n",
    "env.close()"
   ]
  },
  {
   "cell_type": "markdown",
   "id": "0dad9971",
   "metadata": {},
   "source": [
    "## Policy Function"
   ]
  },
  {
   "cell_type": "code",
   "execution_count": 52,
   "id": "fa94549d",
   "metadata": {},
   "outputs": [],
   "source": [
    "#policy = lambda _,__,___, tip_velocity : int( tip_velocity > 0 )"
   ]
  },
  {
   "cell_type": "markdown",
   "id": "19c6a8e5",
   "metadata": {},
   "source": [
    "## Buckets and Actions"
   ]
  },
  {
   "cell_type": "code",
   "execution_count": 64,
   "id": "6a58125c",
   "metadata": {},
   "outputs": [
    {
     "name": "stdout",
     "output_type": "stream",
     "text": [
      "2\n",
      "(6, 12)\n"
     ]
    }
   ],
   "source": [
    "#n_bucket = (1,1,6,3)\n",
    "n_bucket = (6,12)\n",
    "n_actions = env.action_space.n\n",
    "print(n_actions)\n",
    "print(n_bucket)"
   ]
  },
  {
   "cell_type": "markdown",
   "id": "f615b1a3",
   "metadata": {},
   "source": [
    "## Reseting boundarys"
   ]
  },
  {
   "cell_type": "code",
   "execution_count": 54,
   "id": "e8253a3f",
   "metadata": {},
   "outputs": [
    {
     "name": "stdout",
     "output_type": "stream",
     "text": [
      "-0.41887903\n"
     ]
    }
   ],
   "source": [
    "state_val_bounds = list(zip(env.observation_space.low,env.observation_space.high))\n",
    "#Reset cart velocity\n",
    "state_val_bounds[1] = [-0.5,0.5]\n",
    "#Reset pole angular velocity\n",
    "state_val_bounds[3] = [-math.radians(50),math.radians(50)]\n",
    "print(state_val_bounds[2][0])"
   ]
  },
  {
   "cell_type": "markdown",
   "id": "16ad735a",
   "metadata": {},
   "source": [
    "## Action index and Q value"
   ]
  },
  {
   "cell_type": "code",
   "execution_count": 55,
   "id": "692ce65c",
   "metadata": {},
   "outputs": [
    {
     "data": {
      "text/plain": [
       "(6, 12, 2)"
      ]
     },
     "execution_count": 55,
     "metadata": {},
     "output_type": "execute_result"
    }
   ],
   "source": [
    "act_index = len(n_bucket)\n",
    "q_val_table = np.zeros(n_bucket+(n_actions,))\n",
    "q_val_table.shape\n"
   ]
  },
  {
   "cell_type": "markdown",
   "id": "f4b09a52",
   "metadata": {},
   "source": [
    "## Define rate"
   ]
  },
  {
   "cell_type": "code",
   "execution_count": 56,
   "id": "6a56e6f7",
   "metadata": {},
   "outputs": [],
   "source": [
    "min_exp_rate = 0.1\n",
    "min_learn_rate = 0.01"
   ]
  },
  {
   "cell_type": "markdown",
   "id": "4ec195af",
   "metadata": {},
   "source": [
    "## INITIALIZATIONS"
   ]
  },
  {
   "cell_type": "code",
   "execution_count": 57,
   "id": "0eea36f4",
   "metadata": {},
   "outputs": [],
   "source": [
    "episodes = 2000\n",
    "discount = 0.95"
   ]
  },
  {
   "cell_type": "code",
   "execution_count": 58,
   "id": "4d957f6f",
   "metadata": {},
   "outputs": [],
   "source": [
    "## This function choose what action to perform\n",
    "def sel_act(sel_val,exp_rate):\n",
    "    #epsilon greedy algorithm\n",
    "    #exploration and exploitation\n",
    "    if random.random() < exp_rate:\n",
    "        action = env.action_space.sample()\n",
    "    else:\n",
    "        action = np.argmax(q_val_table[sel_val])\n",
    "    return action"
   ]
  },
  {
   "cell_type": "code",
   "execution_count": 59,
   "id": "ad669e62",
   "metadata": {},
   "outputs": [],
   "source": [
    "## This function choose what explore rate to use\n",
    "def sel_exp_rate(input):\n",
    "    return max(min_exp_rate,min(1,1.0 - math.log10((input+1)/25)))\n",
    "## This function choose what learn rate to use\n",
    "def sel_learn_rate(input):\n",
    "    return max(min_learn_rate,min(1.0,1.0 - math.log10((input+1)/25)))"
   ]
  },
  {
   "cell_type": "code",
   "execution_count": 71,
   "id": "302f90a3",
   "metadata": {},
   "outputs": [],
   "source": [
    "## Bucket state value\n",
    "def bucket_state_val(stateval):\n",
    "    est = KBinsDiscretizer(n_bins=n_bucket, encode='ordinal', strategy='uniform')\n",
    "    est.fit([[state_val_bounds[2][0],state_val_bounds[3][0]], [state_val_bounds[2][1],state_val_bounds[3][1]]])\n",
    "    return tuple(map(int,est.transform([[stateval[2], stateval[3]]])[0]))"
   ]
  },
  {
   "cell_type": "code",
   "execution_count": 72,
   "id": "3da5dad3",
   "metadata": {},
   "outputs": [],
   "source": [
    "## Update Q value\n",
    "def Update_Q_val(best_q_val,reward):\n",
    "    # Temporal difference\n",
    "    return discount * best_q_val + reward\n",
    "    "
   ]
  },
  {
   "cell_type": "markdown",
   "id": "25fd5a15",
   "metadata": {},
   "source": [
    "## Training"
   ]
  },
  {
   "cell_type": "code",
   "execution_count": 73,
   "id": "af6cfa32",
   "metadata": {},
   "outputs": [
    {
     "name": "stdout",
     "output_type": "stream",
     "text": [
      "(3, 6)\n",
      "(3, 5)\n",
      "(2, 5)\n",
      "(2, 5)\n",
      "(3, 5)\n",
      "(2, 6)\n",
      "(3, 6)\n",
      "(2, 6)\n",
      "(2, 6)\n",
      "(3, 5)\n",
      "(3, 5)\n",
      "(3, 6)\n",
      "(2, 6)\n",
      "(3, 6)\n",
      "(2, 6)\n",
      "(2, 5)\n",
      "(2, 6)\n",
      "(2, 6)\n",
      "(3, 6)\n",
      "(2, 5)\n",
      "(2, 6)\n",
      "(2, 6)\n",
      "(3, 5)\n",
      "(3, 6)\n",
      "(3, 5)\n",
      "(2, 5)\n",
      "(3, 5)\n",
      "(2, 6)\n",
      "(2, 5)\n",
      "(2, 5)\n",
      "(2, 5)\n",
      "(2, 6)\n",
      "(2, 6)\n",
      "(2, 5)\n",
      "(3, 6)\n",
      "(2, 6)\n",
      "(3, 5)\n",
      "(2, 6)\n",
      "(2, 6)\n",
      "(3, 5)\n",
      "(3, 5)\n",
      "(2, 5)\n",
      "(3, 5)\n",
      "(2, 5)\n",
      "(2, 6)\n",
      "(2, 6)\n",
      "(3, 6)\n",
      "(2, 6)\n",
      "(2, 5)\n",
      "(3, 5)\n",
      "(3, 6)\n",
      "(3, 6)\n",
      "(3, 6)\n",
      "(3, 5)\n",
      "(2, 5)\n",
      "(2, 5)\n",
      "(3, 6)\n",
      "(3, 5)\n",
      "(3, 6)\n",
      "(2, 6)\n",
      "(3, 6)\n",
      "(2, 5)\n",
      "(2, 6)\n",
      "(2, 6)\n",
      "(3, 6)\n",
      "(2, 6)\n",
      "(3, 5)\n",
      "(3, 5)\n",
      "(2, 5)\n",
      "(3, 6)\n",
      "(3, 6)\n",
      "(3, 6)\n",
      "(2, 5)\n",
      "(2, 5)\n",
      "(3, 6)\n",
      "(2, 5)\n",
      "(2, 5)\n",
      "(3, 5)\n",
      "(2, 6)\n",
      "(3, 6)\n",
      "(3, 6)\n",
      "(2, 6)\n",
      "(3, 5)\n"
     ]
    },
    {
     "ename": "KeyboardInterrupt",
     "evalue": "",
     "output_type": "error",
     "traceback": [
      "\u001b[0;31m---------------------------------------------------------------------------\u001b[0m",
      "\u001b[0;31mKeyboardInterrupt\u001b[0m                         Traceback (most recent call last)",
      "\u001b[0;32m/tmp/ipykernel_3876/2755028356.py\u001b[0m in \u001b[0;36m<module>\u001b[0;34m\u001b[0m\n\u001b[1;32m     16\u001b[0m         \u001b[0mq_val_table\u001b[0m\u001b[0;34m[\u001b[0m\u001b[0minit_state_val\u001b[0m\u001b[0;34m]\u001b[0m\u001b[0;34m[\u001b[0m\u001b[0maction\u001b[0m\u001b[0;34m]\u001b[0m \u001b[0;34m=\u001b[0m \u001b[0;34m(\u001b[0m\u001b[0;36m1\u001b[0m \u001b[0;34m-\u001b[0m \u001b[0mlearn_rate\u001b[0m\u001b[0;34m)\u001b[0m \u001b[0;34m*\u001b[0m \u001b[0mold_val\u001b[0m \u001b[0;34m+\u001b[0m \u001b[0mlearnt_val\u001b[0m \u001b[0;34m*\u001b[0m \u001b[0mlearn_rate\u001b[0m\u001b[0;34m\u001b[0m\u001b[0;34m\u001b[0m\u001b[0m\n\u001b[1;32m     17\u001b[0m         \u001b[0minit_state_val\u001b[0m \u001b[0;34m=\u001b[0m \u001b[0mstate_val\u001b[0m\u001b[0;34m\u001b[0m\u001b[0;34m\u001b[0m\u001b[0m\n\u001b[0;32m---> 18\u001b[0;31m         \u001b[0menv\u001b[0m\u001b[0;34m.\u001b[0m\u001b[0mrender\u001b[0m\u001b[0;34m(\u001b[0m\u001b[0;34m)\u001b[0m\u001b[0;34m\u001b[0m\u001b[0;34m\u001b[0m\u001b[0m\n\u001b[0m\u001b[1;32m     19\u001b[0m         \u001b[0;31m#print('Episode: %d' % episode)\u001b[0m\u001b[0;34m\u001b[0m\u001b[0;34m\u001b[0m\u001b[0;34m\u001b[0m\u001b[0m\n\u001b[1;32m     20\u001b[0m         \u001b[0;31m#print(best_q_val)\u001b[0m\u001b[0;34m\u001b[0m\u001b[0;34m\u001b[0m\u001b[0;34m\u001b[0m\u001b[0m\n",
      "\u001b[0;32m~/.local/lib/python3.8/site-packages/gym/core.py\u001b[0m in \u001b[0;36mrender\u001b[0;34m(self, mode, **kwargs)\u001b[0m\n\u001b[1;32m    252\u001b[0m \u001b[0;34m\u001b[0m\u001b[0m\n\u001b[1;32m    253\u001b[0m     \u001b[0;32mdef\u001b[0m \u001b[0mrender\u001b[0m\u001b[0;34m(\u001b[0m\u001b[0mself\u001b[0m\u001b[0;34m,\u001b[0m \u001b[0mmode\u001b[0m\u001b[0;34m=\u001b[0m\u001b[0;34m\"human\"\u001b[0m\u001b[0;34m,\u001b[0m \u001b[0;34m**\u001b[0m\u001b[0mkwargs\u001b[0m\u001b[0;34m)\u001b[0m\u001b[0;34m:\u001b[0m\u001b[0;34m\u001b[0m\u001b[0;34m\u001b[0m\u001b[0m\n\u001b[0;32m--> 254\u001b[0;31m         \u001b[0;32mreturn\u001b[0m \u001b[0mself\u001b[0m\u001b[0;34m.\u001b[0m\u001b[0menv\u001b[0m\u001b[0;34m.\u001b[0m\u001b[0mrender\u001b[0m\u001b[0;34m(\u001b[0m\u001b[0mmode\u001b[0m\u001b[0;34m,\u001b[0m \u001b[0;34m**\u001b[0m\u001b[0mkwargs\u001b[0m\u001b[0;34m)\u001b[0m\u001b[0;34m\u001b[0m\u001b[0;34m\u001b[0m\u001b[0m\n\u001b[0m\u001b[1;32m    255\u001b[0m \u001b[0;34m\u001b[0m\u001b[0m\n\u001b[1;32m    256\u001b[0m     \u001b[0;32mdef\u001b[0m \u001b[0mclose\u001b[0m\u001b[0;34m(\u001b[0m\u001b[0mself\u001b[0m\u001b[0;34m)\u001b[0m\u001b[0;34m:\u001b[0m\u001b[0;34m\u001b[0m\u001b[0;34m\u001b[0m\u001b[0m\n",
      "\u001b[0;32m~/.local/lib/python3.8/site-packages/gym/envs/classic_control/cartpole.py\u001b[0m in \u001b[0;36mrender\u001b[0;34m(self, mode)\u001b[0m\n\u001b[1;32m    227\u001b[0m         \u001b[0mself\u001b[0m\u001b[0;34m.\u001b[0m\u001b[0mpoletrans\u001b[0m\u001b[0;34m.\u001b[0m\u001b[0mset_rotation\u001b[0m\u001b[0;34m(\u001b[0m\u001b[0;34m-\u001b[0m\u001b[0mx\u001b[0m\u001b[0;34m[\u001b[0m\u001b[0;36m2\u001b[0m\u001b[0;34m]\u001b[0m\u001b[0;34m)\u001b[0m\u001b[0;34m\u001b[0m\u001b[0;34m\u001b[0m\u001b[0m\n\u001b[1;32m    228\u001b[0m \u001b[0;34m\u001b[0m\u001b[0m\n\u001b[0;32m--> 229\u001b[0;31m         \u001b[0;32mreturn\u001b[0m \u001b[0mself\u001b[0m\u001b[0;34m.\u001b[0m\u001b[0mviewer\u001b[0m\u001b[0;34m.\u001b[0m\u001b[0mrender\u001b[0m\u001b[0;34m(\u001b[0m\u001b[0mreturn_rgb_array\u001b[0m\u001b[0;34m=\u001b[0m\u001b[0mmode\u001b[0m \u001b[0;34m==\u001b[0m \u001b[0;34m\"rgb_array\"\u001b[0m\u001b[0;34m)\u001b[0m\u001b[0;34m\u001b[0m\u001b[0;34m\u001b[0m\u001b[0m\n\u001b[0m\u001b[1;32m    230\u001b[0m \u001b[0;34m\u001b[0m\u001b[0m\n\u001b[1;32m    231\u001b[0m     \u001b[0;32mdef\u001b[0m \u001b[0mclose\u001b[0m\u001b[0;34m(\u001b[0m\u001b[0mself\u001b[0m\u001b[0;34m)\u001b[0m\u001b[0;34m:\u001b[0m\u001b[0;34m\u001b[0m\u001b[0;34m\u001b[0m\u001b[0m\n",
      "\u001b[0;32m~/.local/lib/python3.8/site-packages/gym/envs/classic_control/rendering.py\u001b[0m in \u001b[0;36mrender\u001b[0;34m(self, return_rgb_array)\u001b[0m\n\u001b[1;32m    122\u001b[0m         \u001b[0mglClearColor\u001b[0m\u001b[0;34m(\u001b[0m\u001b[0;36m1\u001b[0m\u001b[0;34m,\u001b[0m \u001b[0;36m1\u001b[0m\u001b[0;34m,\u001b[0m \u001b[0;36m1\u001b[0m\u001b[0;34m,\u001b[0m \u001b[0;36m1\u001b[0m\u001b[0;34m)\u001b[0m\u001b[0;34m\u001b[0m\u001b[0;34m\u001b[0m\u001b[0m\n\u001b[1;32m    123\u001b[0m         \u001b[0mself\u001b[0m\u001b[0;34m.\u001b[0m\u001b[0mwindow\u001b[0m\u001b[0;34m.\u001b[0m\u001b[0mclear\u001b[0m\u001b[0;34m(\u001b[0m\u001b[0;34m)\u001b[0m\u001b[0;34m\u001b[0m\u001b[0;34m\u001b[0m\u001b[0m\n\u001b[0;32m--> 124\u001b[0;31m         \u001b[0mself\u001b[0m\u001b[0;34m.\u001b[0m\u001b[0mwindow\u001b[0m\u001b[0;34m.\u001b[0m\u001b[0mswitch_to\u001b[0m\u001b[0;34m(\u001b[0m\u001b[0;34m)\u001b[0m\u001b[0;34m\u001b[0m\u001b[0;34m\u001b[0m\u001b[0m\n\u001b[0m\u001b[1;32m    125\u001b[0m         \u001b[0mself\u001b[0m\u001b[0;34m.\u001b[0m\u001b[0mwindow\u001b[0m\u001b[0;34m.\u001b[0m\u001b[0mdispatch_events\u001b[0m\u001b[0;34m(\u001b[0m\u001b[0;34m)\u001b[0m\u001b[0;34m\u001b[0m\u001b[0;34m\u001b[0m\u001b[0m\n\u001b[1;32m    126\u001b[0m         \u001b[0mself\u001b[0m\u001b[0;34m.\u001b[0m\u001b[0mtransform\u001b[0m\u001b[0;34m.\u001b[0m\u001b[0menable\u001b[0m\u001b[0;34m(\u001b[0m\u001b[0;34m)\u001b[0m\u001b[0;34m\u001b[0m\u001b[0;34m\u001b[0m\u001b[0m\n",
      "\u001b[0;32m~/anaconda3/lib/python3.8/site-packages/pyglet/window/xlib/__init__.py\u001b[0m in \u001b[0;36mswitch_to\u001b[0;34m(self)\u001b[0m\n\u001b[1;32m    527\u001b[0m     \u001b[0;32mdef\u001b[0m \u001b[0mswitch_to\u001b[0m\u001b[0;34m(\u001b[0m\u001b[0mself\u001b[0m\u001b[0;34m)\u001b[0m\u001b[0;34m:\u001b[0m\u001b[0;34m\u001b[0m\u001b[0;34m\u001b[0m\u001b[0m\n\u001b[1;32m    528\u001b[0m         \u001b[0;32mif\u001b[0m \u001b[0mself\u001b[0m\u001b[0;34m.\u001b[0m\u001b[0mcontext\u001b[0m\u001b[0;34m:\u001b[0m\u001b[0;34m\u001b[0m\u001b[0;34m\u001b[0m\u001b[0m\n\u001b[0;32m--> 529\u001b[0;31m             \u001b[0mself\u001b[0m\u001b[0;34m.\u001b[0m\u001b[0mcontext\u001b[0m\u001b[0;34m.\u001b[0m\u001b[0mset_current\u001b[0m\u001b[0;34m(\u001b[0m\u001b[0;34m)\u001b[0m\u001b[0;34m\u001b[0m\u001b[0;34m\u001b[0m\u001b[0m\n\u001b[0m\u001b[1;32m    530\u001b[0m \u001b[0;34m\u001b[0m\u001b[0m\n\u001b[1;32m    531\u001b[0m     \u001b[0;32mdef\u001b[0m \u001b[0mflip\u001b[0m\u001b[0;34m(\u001b[0m\u001b[0mself\u001b[0m\u001b[0;34m)\u001b[0m\u001b[0;34m:\u001b[0m\u001b[0;34m\u001b[0m\u001b[0;34m\u001b[0m\u001b[0m\n",
      "\u001b[0;32m~/anaconda3/lib/python3.8/site-packages/pyglet/gl/xlib.py\u001b[0m in \u001b[0;36mset_current\u001b[0;34m(self)\u001b[0m\n\u001b[1;32m    343\u001b[0m         glx.glXMakeContextCurrent(\n\u001b[1;32m    344\u001b[0m             self.x_display, self.glx_window, self.glx_window, self.glx_context)\n\u001b[0;32m--> 345\u001b[0;31m         \u001b[0msuper\u001b[0m\u001b[0;34m(\u001b[0m\u001b[0mXlibContext13\u001b[0m\u001b[0;34m,\u001b[0m \u001b[0mself\u001b[0m\u001b[0;34m)\u001b[0m\u001b[0;34m.\u001b[0m\u001b[0mset_current\u001b[0m\u001b[0;34m(\u001b[0m\u001b[0;34m)\u001b[0m\u001b[0;34m\u001b[0m\u001b[0;34m\u001b[0m\u001b[0m\n\u001b[0m\u001b[1;32m    346\u001b[0m \u001b[0;34m\u001b[0m\u001b[0m\n\u001b[1;32m    347\u001b[0m     \u001b[0;32mdef\u001b[0m \u001b[0mdetach\u001b[0m\u001b[0;34m(\u001b[0m\u001b[0mself\u001b[0m\u001b[0;34m)\u001b[0m\u001b[0;34m:\u001b[0m\u001b[0;34m\u001b[0m\u001b[0;34m\u001b[0m\u001b[0m\n",
      "\u001b[0;31mKeyboardInterrupt\u001b[0m: "
     ]
    }
   ],
   "source": [
    "for episode in range(episodes):\n",
    "    exp_rate = sel_exp_rate(episode)\n",
    "    learn_rate = sel_learn_rate(episode)\n",
    "    obs = env.reset()\n",
    "    init_state_val = bucket_state_val(obs)\n",
    "    print(init_state_val)\n",
    "    done = False\n",
    "    while done == False:\n",
    "        action = sel_act(init_state_val,exp_rate)\n",
    "        obs, reward, done, info = env.step(action)\n",
    "        state_val = bucket_state_val(obs)\n",
    "        best_q_val = np.max(q_val_table[state_val])\n",
    "        learnt_val = Update_Q_val(best_q_val,reward)\n",
    "        old_val = q_val_table[init_state_val][action]\n",
    "        # Bellman equation\n",
    "        q_val_table[init_state_val][action] = (1 - learn_rate) * old_val + learnt_val * learn_rate\n",
    "        init_state_val = state_val\n",
    "        env.render()\n",
    "        #print('Episode: %d' % episode)\n",
    "        #print(best_q_val)\n",
    "        #print('Action: %d' % action)\n",
    "        #print('Reward : %f' % reward)\n",
    "env.close()"
   ]
  },
  {
   "cell_type": "code",
   "execution_count": null,
   "id": "65a143a9",
   "metadata": {},
   "outputs": [],
   "source": [
    "env.render(close=True)"
   ]
  },
  {
   "cell_type": "code",
   "execution_count": null,
   "id": "e5c0936b",
   "metadata": {},
   "outputs": [],
   "source": []
  },
  {
   "cell_type": "code",
   "execution_count": null,
   "id": "9752e713",
   "metadata": {},
   "outputs": [],
   "source": []
  },
  {
   "cell_type": "code",
   "execution_count": null,
   "id": "81d7ac82",
   "metadata": {},
   "outputs": [],
   "source": []
  }
 ],
 "metadata": {
  "kernelspec": {
   "display_name": "Python 3 (ipykernel)",
   "language": "python",
   "name": "python3"
  },
  "language_info": {
   "codemirror_mode": {
    "name": "ipython",
    "version": 3
   },
   "file_extension": ".py",
   "mimetype": "text/x-python",
   "name": "python",
   "nbconvert_exporter": "python",
   "pygments_lexer": "ipython3",
   "version": "3.8.8"
  }
 },
 "nbformat": 4,
 "nbformat_minor": 5
}
